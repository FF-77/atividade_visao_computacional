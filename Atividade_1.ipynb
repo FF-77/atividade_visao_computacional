{
  "nbformat": 4,
  "nbformat_minor": 0,
  "metadata": {
    "colab": {
      "name": "Atividade_1.ipynb",
      "provenance": [],
      "mount_file_id": "1Gx9kqNP113gGBX6xcU47jiFucPgYXoq4",
      "authorship_tag": "ABX9TyPh5HkCCmGIdSKSRt65RFc1",
      "include_colab_link": true
    },
    "kernelspec": {
      "name": "python3",
      "display_name": "Python 3"
    },
    "language_info": {
      "name": "python"
    }
  },
  "cells": [
    {
      "cell_type": "markdown",
      "metadata": {
        "id": "view-in-github",
        "colab_type": "text"
      },
      "source": [
        "<a href=\"https://colab.research.google.com/github/FF-77/atividade_visao_computacional/blob/main/Atividade_1.ipynb\" target=\"_parent\"><img src=\"https://colab.research.google.com/assets/colab-badge.svg\" alt=\"Open In Colab\"/></a>"
      ]
    },
    {
      "cell_type": "markdown",
      "source": [
        "Caminho da pasta imagens no Drive"
      ],
      "metadata": {
        "id": "NBaL622b5POo"
      }
    },
    {
      "cell_type": "code",
      "execution_count": 3,
      "metadata": {
        "id": "D2eqIgRat1Wp"
      },
      "outputs": [],
      "source": [
        "PATH = \"/content/drive/MyDrive/imagens/\""
      ]
    },
    {
      "cell_type": "markdown",
      "source": [
        "Importando as bibliotecas"
      ],
      "metadata": {
        "id": "aYh55TlAujpa"
      }
    },
    {
      "cell_type": "code",
      "source": [
        "import numpy as np\n",
        "import cv2 as cv\n",
        "from matplotlib import pyplot as plot\n",
        "import math"
      ],
      "metadata": {
        "id": "1XgUDi0YuoqL"
      },
      "execution_count": 4,
      "outputs": []
    },
    {
      "cell_type": "markdown",
      "source": [
        "Lendo uma imagem"
      ],
      "metadata": {
        "id": "pP3UhzfMu_ry"
      }
    },
    {
      "cell_type": "code",
      "source": [
        ""
      ],
      "metadata": {
        "id": "KPm_XgiAvEXu"
      },
      "execution_count": null,
      "outputs": []
    },
    {
      "cell_type": "markdown",
      "source": [
        "Alterando as bandas das cores"
      ],
      "metadata": {
        "id": "K3lwKF2wvFg_"
      }
    },
    {
      "cell_type": "code",
      "source": [
        ""
      ],
      "metadata": {
        "id": "5O5rU_AhvJDX"
      },
      "execution_count": null,
      "outputs": []
    }
  ]
}